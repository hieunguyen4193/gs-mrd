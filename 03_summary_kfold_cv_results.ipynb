{
 "cells": [
  {
   "cell_type": "code",
   "execution_count": 1,
   "metadata": {},
   "outputs": [],
   "source": [
    "import pandas as pd\n",
    "import numpy as np\n",
    "import pathlib\n",
    "import seaborn as sns\n",
    "import matplotlib.pyplot as plt\n",
    "from sklearn import metrics\n",
    "from sklearn.metrics import RocCurveDisplay\n",
    "from sklearn.decomposition import NMF\n",
    "import warnings\n",
    "warnings.filterwarnings(\"ignore\")\n",
    "from sklearn.mixture import GaussianMixture\n",
    "import os\n",
    "import ot\n",
    "import pickle\n",
    "import argparse\n",
    "import Levenshtein\n",
    "import itertools\n",
    "from helper_functions import *\n",
    "\n",
    "##### input args\n",
    "PROJECT = \"gs-mrd\"\n",
    "release_version = \"09122024\"\n",
    "merge_version = \"20240914\"\n",
    "\n",
    "##### configurations/paths\n",
    "path_to_main_src = \"/media/hieunguyen/HNSD01/src/gs-mrd\"\n",
    "path_to_merge_samples = f\"{path_to_main_src}/all_samples/{merge_version}\"\n",
    "\n",
    "path_to_save_output = os.path.join(path_to_main_src, \"output\")\n",
    "\n",
    "all_fold_res = [item for item in pathlib.Path(os.path.join(path_to_save_output, \"02_output\")).glob(\"*/*.csv\")]"
   ]
  },
  {
   "cell_type": "code",
   "execution_count": 2,
   "metadata": {},
   "outputs": [],
   "source": [
    "\n",
    "folddf = pd.read_csv(all_fold_res[0], index_col=[0])\n",
    "i = all_fold_res[0].name.replace(\"resdf_fold\", \"\").replace(\".csv\", \"\")\n",
    "folddf[\"feature_combinations\"] = folddf[\"feature_combinations\"].apply(\n",
    "    lambda x: x.replace(\"NMF_FLEN_1\", \"NMF_FLEN\").replace(\"NMF_FLEN_2\", \"NMF_FLEN\").replace(\"NMF_NUCLEOSOME_1\", \"NMF_NUCLEOSOME\").replace(\"NMF_NUCLEOSOME_2\", \"NMF_NUCLEOSOME\").replace(\"NMF_EM_1\", \"NMF_EM\").replace(\"NMF_EM_2\", \"NMF_EM\"))\n",
    "folddf.columns = [\"feat\", f\"SEN_fold{i}\", f\"SPEC_fold{i}\"]\n",
    "for file in all_fold_res[1:]:\n",
    "    tmpdf = pd.read_csv(file, index_col = [0])\n",
    "    tmpdf[\"feature_combinations\"] = tmpdf[\"feature_combinations\"].apply(\n",
    "        lambda x: x.replace(\"NMF_FLEN_1\", \"NMF_FLEN\").replace(\"NMF_FLEN_2\", \"NMF_FLEN\").replace(\"NMF_NUCLEOSOME_1\", \"NMF_NUCLEOSOME\").replace(\"NMF_NUCLEOSOME_2\", \"NMF_NUCLEOSOME\").replace(\"NMF_EM_1\", \"NMF_EM\").replace(\"NMF_EM_2\", \"NMF_EM\")\n",
    "    )\n",
    "    i = file.name.replace(\"resdf_fold\", \"\").replace(\".csv\", \"\")\n",
    "    tmpdf.columns = [\"feat\", f\"SEN_fold{i}\", f\"SPEC_fold{i}\"]\n",
    "    folddf = folddf.merge(tmpdf, right_on = \"feat\", left_on = \"feat\")\n",
    "folddf[\"avg_SEN\"] = folddf[[item for item in folddf.columns if \"SEN\" in item]].mean(axis = 1)\n",
    "folddf[\"avg_SPEC\"] = folddf[[item for item in folddf.columns if \"SPEC\" in item]].mean(axis = 1)\n",
    "\n",
    "folddf = folddf[[\"feat\", \"avg_SEN\", \"avg_SPEC\"]]"
   ]
  },
  {
   "cell_type": "code",
   "execution_count": null,
   "metadata": {},
   "outputs": [],
   "source": [
    "folddf[folddf[\"avg_SPEC\"] >= 0.95].sort_values([\"avg_SPEC\", \"avg_SEN\"], ascending = False)"
   ]
  },
  {
   "cell_type": "code",
   "execution_count": null,
   "metadata": {},
   "outputs": [],
   "source": [
    "folddf.sort_values([\"avg_SPEC\", \"avg_SEN\"], ascending = False)"
   ]
  },
  {
   "cell_type": "code",
   "execution_count": null,
   "metadata": {},
   "outputs": [],
   "source": [
    "folddf[(folddf[\"feat\"].str.contains(\"NMF_FLEN\")) & (folddf[\"feat\"].str.contains(\"ichorCNA\"))].sort_values(\"avg_SPEC\", ascending = False)"
   ]
  },
  {
   "cell_type": "code",
   "execution_count": 6,
   "metadata": {},
   "outputs": [],
   "source": [
    "folddf.sort_values(by = [\"avg_SPEC\", \"avg_SEN\"], ascending = False).style.background_gradient(subset = [\"avg_SPEC\", \"avg_SEN\"]).to_excel(os.path.join(f\"resdf_folds.color.xlsx\"), index = False)"
   ]
  }
 ],
 "metadata": {
  "kernelspec": {
   "display_name": "mrd",
   "language": "python",
   "name": "python3"
  },
  "language_info": {
   "codemirror_mode": {
    "name": "ipython",
    "version": 3
   },
   "file_extension": ".py",
   "mimetype": "text/x-python",
   "name": "python",
   "nbconvert_exporter": "python",
   "pygments_lexer": "ipython3",
   "version": "3.9.0"
  }
 },
 "nbformat": 4,
 "nbformat_minor": 2
}
