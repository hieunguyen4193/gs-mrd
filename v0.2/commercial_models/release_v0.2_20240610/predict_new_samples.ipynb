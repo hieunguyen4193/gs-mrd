{
 "cells": [
  {
   "cell_type": "code",
   "execution_count": null,
   "id": "91c936fe",
   "metadata": {},
   "outputs": [],
   "source": [
    "import pandas as pd\n",
    "import numpy as np\n",
    "import pathlib\n",
    "import seaborn as sns\n",
    "import matplotlib.pyplot as plt\n",
    "from sklearn import metrics\n",
    "from sklearn.metrics import RocCurveDisplay\n",
    "from sklearn.decomposition import NMF\n",
    "import warnings\n",
    "warnings.filterwarnings(\"ignore\")\n",
    "from sklearn.mixture import GaussianMixture\n",
    "import os\n",
    "import ot\n",
    "import pickle\n",
    "import argparse\n",
    "import Levenshtein\n",
    "import itertools\n",
    "\n",
    "from predict import *\n",
    "\n",
    "inputdir = \"/media/hieunguyen/HNHD01/raw_data/MRD_GW_v1_20250318/Metadata_Genome-wide_Version1_07.03.25\"\n",
    "\n",
    "metadata_not_use = pd.read_excel(os.path.join(inputdir, \"Metadata_Genome-wide Version1_07.03.25.xlsx\"))\n",
    "metadata = pd.read_csv(os.path.join(inputdir, \"meta_full.csv\"))\n",
    "\n",
    "all_train_samples = metadata[metadata[\"Set\"] == \"train\"][\"SampleID\"].unique()\n",
    "all_test_samples = metadata[metadata[\"Set\"] == \"test\"][\"SampleID\"].unique()\n",
    "all_validate_samples = metadata[metadata[\"Set\"] == \"validate\"][\"SampleID\"].unique()\n",
    "\n",
    "##### generate sample list for each class, all samples\n",
    "samplelist = dict()\n",
    "for label in metadata.Cancer.unique():\n",
    "    samplelist[label] = metadata[metadata[\"Cancer\"] == label][\"SampleID\"].to_list()\n",
    "\n",
    "##### generate sample list for each class, train samples only\n",
    "train_samplelist = dict()\n",
    "for label in metadata.Cancer.unique():\n",
    "    train_samplelist[label] = metadata[(metadata[\"Cancer\"] == label) & (metadata[\"Set\"] == \"train\")][\"SampleID\"].to_list()\n",
    "    \n",
    "##### generate sample list for each class, test samples only\n",
    "test_samplelist = dict()\n",
    "for label in metadata.Cancer.unique():\n",
    "    test_samplelist[label] = metadata[(metadata[\"Cancer\"] == label) & (metadata[\"Set\"] == \"test\")][\"SampleID\"].to_list()\n",
    "\n",
    "##### generate sample list for each class, validate samples only\n",
    "validate_samplelist = dict()\n",
    "for label in metadata.Cancer.unique():\n",
    "    validate_samplelist[label] = metadata[(metadata[\"Cancer\"] == label) & (metadata[\"Set\"] == \"validate\")][\"SampleID\"].to_list()\n",
    "\n",
    "##### read features in\n",
    "featuredf = dict()\n",
    "train_featuredf = dict()\n",
    "test_featuredf = dict()\n",
    "validate_featuredf = dict()\n",
    "\n",
    "for f in [\"NUCLEOSOME\", \"FLEN\", \"EM\", \"IchorCNA\"]:\n",
    "    featuredf[f] = pd.read_csv(os.path.join(inputdir, f\"{f}.csv\"))\n",
    "\n",
    "featuredf[\"IchorCNA\"].columns = [\"SampleID\", \"ichorCNA\"]\n",
    "\n",
    "for f in [\"NUCLEOSOME\", \"FLEN\", \"EM\", \"IchorCNA\"]:\n",
    "    train_featuredf[f] = featuredf[f][featuredf[f][\"SampleID\"].isin(all_train_samples)]\n",
    "    test_featuredf[f] = featuredf[f][featuredf[f][\"SampleID\"].isin(all_test_samples)]\n",
    "    validate_featuredf[f] = featuredf[f][featuredf[f][\"SampleID\"].isin(all_validate_samples)]\n",
    "\n",
    "train_featuredf[\"IchorCNA\"].columns = [\"SampleID\", \"ichorCNA\"]\n",
    "test_featuredf[\"IchorCNA\"].columns = [\"SampleID\", \"ichorCNA\"]\n",
    "validate_featuredf[\"IchorCNA\"].columns = [\"SampleID\", \"ichorCNA\"]\n",
    "\n",
    "cmcdir = \"/media/hieunguyen/HNSD01/src/gs-mrd/v0.2/commercial_models/release_v0.2_20240610\"\n",
    "nmf_flen_cancer_signal = 2\n",
    "path_to_save_output = os.path.join(cmcdir, \"validate_output\")\n",
    "path_to_model_files = os.path.join(cmcdir, \"model_files\")\n",
    "cmc_cutoffdf = pd.read_excel(os.path.join(path_to_model_files, \"cutoffdf.xlsx\"), index_col = [0])\n",
    "\n",
    "all_features = ['ichorCNA', 'FLEN', 'EM', 'NUCLEOSOME', 'OT_FLEN',\n",
    "       'OT_NUCLEOSOME', 'NMF_FLEN', 'NMF_NUCLEOSOME']\n"
   ]
  },
  {
   "cell_type": "markdown",
   "id": "bd281a2e",
   "metadata": {},
   "source": [
    "# Predictions with the current commercial models"
   ]
  },
  {
   "cell_type": "markdown",
   "id": "97f3bae9",
   "metadata": {},
   "source": [
    "## Prediction on \"train\" set"
   ]
  },
  {
   "cell_type": "code",
   "execution_count": null,
   "id": "97196de0",
   "metadata": {},
   "outputs": [],
   "source": [
    "##### function \"predict\" is from the file predict.py.This function is applied to this commercial version only. \n",
    "cmc_train_outputdf = predict(input_featuredf = train_featuredf, \n",
    "        path_to_save_output = path_to_save_output, \n",
    "        path_to_model_files = path_to_model_files, \n",
    "        nmf_flen_cancer_signal = nmf_flen_cancer_signal, \n",
    "        output_filename = \"MRD_20250320_train_output\")\n",
    "\n",
    "# cmc_train_outputdf.columns = [\"IchorCNA\" if item == \"ichorCNA\" else item for item in cmc_train_outputdf.columns]\n",
    "\n",
    "cmc_train_outputdf = cmc_train_outputdf.merge(metadata, right_on = \"SampleID\", left_on = \"SampleID\")\n",
    "cmc_train_outputdf[\"True_label\"] = cmc_train_outputdf[[\"Cancer\", \"Label\"]].apply(\n",
    "    lambda x: x[1] if x[0] != \"Healthy\" else \"Healthy\", axis = 1\n",
    ")\n",
    "cmc_train_outputdf[\"Label\"] = cmc_train_outputdf[\"Label\"].apply(lambda x: 1 if x == \"Pos\" else 0)"
   ]
  },
  {
   "cell_type": "markdown",
   "id": "fe936f65",
   "metadata": {},
   "source": [
    "## Prediction on \"test\" set"
   ]
  },
  {
   "cell_type": "code",
   "execution_count": null,
   "id": "7699f997",
   "metadata": {},
   "outputs": [],
   "source": [
    "##### function \"predict\" is from the file predict.py.This function is applied to this commercial version only. \n",
    "cmc_test_outputdf = predict(input_featuredf = test_featuredf, \n",
    "        path_to_save_output = path_to_save_output, \n",
    "        path_to_model_files = path_to_model_files, \n",
    "        nmf_flen_cancer_signal = nmf_flen_cancer_signal, \n",
    "        output_filename = \"MRD_20250320_test_output\")\n",
    "\n",
    "# cmc_test_outputdf.columns = [\"IchorCNA\" if item == \"ichorCNA\" else item for item in cmc_test_outputdf.columns]\n",
    "\n",
    "cmc_test_outputdf = cmc_test_outputdf.merge(metadata, right_on = \"SampleID\", left_on = \"SampleID\")\n",
    "cmc_test_outputdf[\"True_label\"] = cmc_test_outputdf[[\"Cancer\", \"Label\"]].apply(\n",
    "    lambda x: x[1] if x[0] != \"Healthy\" else \"Healthy\", axis = 1\n",
    ")\n",
    "cmc_test_outputdf[\"Label\"] = cmc_test_outputdf[\"Label\"].apply(lambda x: 1 if x == \"Pos\" else 0)"
   ]
  },
  {
   "cell_type": "markdown",
   "id": "984fbd96",
   "metadata": {},
   "source": [
    "## Prediction on \"validate\" set"
   ]
  },
  {
   "cell_type": "code",
   "execution_count": null,
   "id": "09aaecea",
   "metadata": {},
   "outputs": [],
   "source": [
    "##### function \"predict\" is from the file predict.py.This function is applied to this commercial version only. \n",
    "cmc_validate_outputdf = predict(input_featuredf = validate_featuredf, \n",
    "        path_to_save_output = path_to_save_output, \n",
    "        path_to_model_files = path_to_model_files, \n",
    "        nmf_flen_cancer_signal = nmf_flen_cancer_signal, \n",
    "        output_filename = \"MRD_20250320_validate_output\")\n",
    "\n",
    "# cmc_validate_outputdf.columns = [\"IchorCNA\" if item == \"ichorCNA\" else item for item in cmc_validate_outputdf.columns]\n",
    "\n",
    "cmc_validate_outputdf = cmc_validate_outputdf.merge(metadata, right_on = \"SampleID\", left_on = \"SampleID\")\n",
    "cmc_validate_outputdf[\"True_label\"] = cmc_validate_outputdf[[\"Cancer\", \"Label\"]].apply(\n",
    "    lambda x: x[1] if x[0] != \"Healthy\" else \"Healthy\", axis = 1\n",
    ")\n",
    "cmc_validate_outputdf[\"Label\"] = cmc_validate_outputdf[\"Label\"].apply(lambda x: 1 if x == \"Pos\" else 0)"
   ]
  },
  {
   "cell_type": "markdown",
   "id": "b10c30b3",
   "metadata": {},
   "source": [
    "# Summary prediction results"
   ]
  },
  {
   "cell_type": "code",
   "execution_count": null,
   "id": "36b81f78",
   "metadata": {},
   "outputs": [],
   "source": [
    "from itertools import combinations\n",
    "\n",
    "cutoffdf = cmc_cutoffdf.copy()\n",
    "\n",
    "def get_Sen_Spec_for_combi(combi, inputdf):\n",
    "    input_feats = combi.split(\",\")\n",
    "    tmpdf =  inputdf[[\"Label\"] + [f\"prediction_{i}\" for i in input_feats]]\n",
    "    tmpdf[\"sum\"] = tmpdf[[f\"prediction_{i}\" for i in input_feats]].sum(axis = 1)\n",
    "    tmpdf[\"prediction\"] = tmpdf[\"sum\"].apply(lambda x: 1 if x != 0 else 0)\n",
    "    sen = tmpdf[(tmpdf[\"prediction\"] == 1) & (tmpdf[\"Label\"] == 1)].shape[0]/tmpdf[tmpdf[\"Label\"]== 1].shape[0]\n",
    "    spec = tmpdf[(tmpdf[\"prediction\"] == 0) & (tmpdf[\"Label\"] == 0)].shape[0]/tmpdf[tmpdf[\"Label\"]== 0].shape[0]\n",
    "    return(sen, spec)\n"
   ]
  },
  {
   "cell_type": "markdown",
   "id": "9b5932fd",
   "metadata": {},
   "source": [
    "## Summary on train set"
   ]
  },
  {
   "cell_type": "code",
   "execution_count": null,
   "id": "9d61a796",
   "metadata": {},
   "outputs": [],
   "source": [
    "for feat in all_features:\n",
    "    c = float(cutoffdf[cutoffdf[\"feature\"] == feat].cutoff.values[0])\n",
    "    cmc_train_outputdf[f\"prediction_{feat}\"] = cmc_train_outputdf[feat].apply(\n",
    "        lambda x: 1 if x > c else 0\n",
    "    )\n",
    "cmc_train_outputdf = cmc_train_outputdf[cmc_train_outputdf[\"Label\"] != \"?\"]\n",
    "train_resdf = pd.DataFrame(data = all_features, columns = [\"feature\"])\n",
    "train_resdf[\"SEN\"] = train_resdf[\"feature\"].apply(\n",
    "    lambda x: cmc_train_outputdf[(cmc_train_outputdf[f\"prediction_{x}\"] == 1) & (cmc_train_outputdf[\"Label\"] == 1)].shape[0]/cmc_train_outputdf[cmc_train_outputdf[\"Label\"]== 1].shape[0]\n",
    ")\n",
    "train_resdf[\"SPEC\"] = train_resdf[\"feature\"].apply(\n",
    "    lambda x: cmc_train_outputdf[(cmc_train_outputdf[f\"prediction_{x}\"] == 0) & (cmc_train_outputdf[\"Label\"] == 0)].shape[0]/cmc_train_outputdf[cmc_train_outputdf[\"Label\"]== 0].shape[0]\n",
    ")\n",
    "feature_combinations = []\n",
    "for i in range(1, len(all_features) + 1):\n",
    "    feature_combinations.extend(combinations(all_features, i))\n",
    "\n",
    "train_combinedf = pd.DataFrame(data = [\",\".join(feature_combinations[i]) for i in range(len(feature_combinations))], columns = [\"feature_combinations\"])\n",
    "\n",
    "\n",
    "train_combinedf[[\"SEN_train\", \"SPEC_train\"]] = train_combinedf[\"feature_combinations\"].apply(lambda x: get_Sen_Spec_for_combi(x, cmc_train_outputdf)).apply(pd.Series)\n",
    "train_combinedf.to_excel(os.path.join(cmcdir,  \"prediction_by_cmcModel_train.xlsx\"), index  = False)"
   ]
  },
  {
   "cell_type": "markdown",
   "id": "6ed477c7",
   "metadata": {},
   "source": [
    "## Summary on test set"
   ]
  },
  {
   "cell_type": "code",
   "execution_count": null,
   "id": "e3062494",
   "metadata": {},
   "outputs": [],
   "source": [
    "for feat in all_features:\n",
    "    c = float(cutoffdf[cutoffdf[\"feature\"] == feat].cutoff.values[0])\n",
    "    cmc_test_outputdf[f\"prediction_{feat}\"] = cmc_test_outputdf[feat].apply(\n",
    "        lambda x: 1 if x > c else 0\n",
    "    )\n",
    "cmc_test_outputdf = cmc_test_outputdf[cmc_test_outputdf[\"Label\"] != \"?\"]\n",
    "test_resdf = pd.DataFrame(data = all_features, columns = [\"feature\"])\n",
    "test_resdf[\"SEN\"] = test_resdf[\"feature\"].apply(\n",
    "    lambda x: cmc_test_outputdf[(cmc_test_outputdf[f\"prediction_{x}\"] == 1) & (cmc_test_outputdf[\"Label\"] == 1)].shape[0]/cmc_test_outputdf[cmc_test_outputdf[\"Label\"]== 1].shape[0]\n",
    ")\n",
    "test_resdf[\"SPEC\"] = test_resdf[\"feature\"].apply(\n",
    "    lambda x: cmc_test_outputdf[(cmc_test_outputdf[f\"prediction_{x}\"] == 0) & (cmc_test_outputdf[\"Label\"] == 0)].shape[0]/cmc_test_outputdf[cmc_test_outputdf[\"Label\"]== 0].shape[0]\n",
    ")\n",
    "feature_combinations = []\n",
    "for i in range(1, len(all_features) + 1):\n",
    "    feature_combinations.extend(combinations(all_features, i))\n",
    "\n",
    "test_combinedf = pd.DataFrame(data = [\",\".join(feature_combinations[i]) for i in range(len(feature_combinations))], columns = [\"feature_combinations\"])\n",
    "\n",
    "test_combinedf[[\"SEN_test\", \"SPEC_test\"]] = test_combinedf[\"feature_combinations\"].apply(lambda x: get_Sen_Spec_for_combi(x, cmc_test_outputdf)).apply(pd.Series)\n",
    "test_combinedf.to_excel(os.path.join(cmcdir,  \"prediction_by_cmcModel_test.xlsx\"), index  = False)"
   ]
  },
  {
   "cell_type": "markdown",
   "id": "8108ba9a",
   "metadata": {},
   "source": [
    "## Summary on validate set"
   ]
  },
  {
   "cell_type": "code",
   "execution_count": null,
   "id": "3ea3564e",
   "metadata": {},
   "outputs": [],
   "source": [
    "for feat in all_features:\n",
    "    c = float(cutoffdf[cutoffdf[\"feature\"] == feat].cutoff.values[0])\n",
    "    cmc_validate_outputdf[f\"prediction_{feat}\"] = cmc_validate_outputdf[feat].apply(\n",
    "        lambda x: 1 if x > c else 0\n",
    "    )\n",
    "cmc_validate_outputdf = cmc_validate_outputdf[cmc_validate_outputdf[\"Label\"] != \"?\"]\n",
    "validate_resdf = pd.DataFrame(data = all_features, columns = [\"feature\"])\n",
    "validate_resdf[\"SEN\"] = validate_resdf[\"feature\"].apply(\n",
    "    lambda x: cmc_validate_outputdf[(cmc_validate_outputdf[f\"prediction_{x}\"] == 1) & (cmc_validate_outputdf[\"Label\"] == 1)].shape[0]/cmc_validate_outputdf[cmc_validate_outputdf[\"Label\"]== 1].shape[0]\n",
    ")\n",
    "validate_resdf[\"SPEC\"] = validate_resdf[\"feature\"].apply(\n",
    "    lambda x: cmc_validate_outputdf[(cmc_validate_outputdf[f\"prediction_{x}\"] == 0) & (cmc_validate_outputdf[\"Label\"] == 0)].shape[0]/cmc_validate_outputdf[cmc_validate_outputdf[\"Label\"]== 0].shape[0]\n",
    ")\n",
    "feature_combinations = []\n",
    "for i in range(1, len(all_features) + 1):\n",
    "    feature_combinations.extend(combinations(all_features, i))\n",
    "\n",
    "validate_combinedf = pd.DataFrame(data = [\",\".join(feature_combinations[i]) for i in range(len(feature_combinations))], columns = [\"feature_combinations\"])\n",
    "\n",
    "\n",
    "validate_combinedf[[\"SEN_validate\", \"SPEC_validate\"]] = validate_combinedf[\"feature_combinations\"].apply(lambda x: get_Sen_Spec_for_combi(x, cmc_validate_outputdf)).apply(pd.Series)\n",
    "validate_combinedf.to_excel(os.path.join(cmcdir,  \"prediction_by_cmcModel_validate.xlsx\"), index  = False)"
   ]
  },
  {
   "cell_type": "code",
   "execution_count": null,
   "id": "35956cc5",
   "metadata": {},
   "outputs": [],
   "source": [
    "cmc_summarydf = train_combinedf.merge(test_combinedf, right_on = \"feature_combinations\", left_on = \"feature_combinations\")\n",
    "cmc_summarydf = cmc_summarydf.merge(validate_combinedf, right_on = \"feature_combinations\", left_on = \"feature_combinations\")\n",
    "cmc_summarydf[\"num_combi\"] = cmc_summarydf[\"feature_combinations\"].apply(lambda x: len(x.split(\",\")))\n",
    "cmc_summarydf.sort_values(by = [\"SPEC_train\", \"SEN_train\"], ascending=[False, False])"
   ]
  },
  {
   "cell_type": "code",
   "execution_count": null,
   "id": "08fdb3b4",
   "metadata": {},
   "outputs": [],
   "source": [
    "cmc_summarydf[cmc_summarydf[\"feature_combinations\"] == \"ichorCNA,NMF_FLEN\"]"
   ]
  },
  {
   "cell_type": "code",
   "execution_count": null,
   "id": "3b36cc0d",
   "metadata": {},
   "outputs": [],
   "source": [
    "cmc_summarydf.to_excel(os.path.join(cmcdir, \"summary_prediction_by_cmcModel.xlsx\"), index  = False)"
   ]
  }
 ],
 "metadata": {
  "kernelspec": {
   "display_name": "mrd",
   "language": "python",
   "name": "python3"
  },
  "language_info": {
   "codemirror_mode": {
    "name": "ipython",
    "version": 3
   },
   "file_extension": ".py",
   "mimetype": "text/x-python",
   "name": "python",
   "nbconvert_exporter": "python",
   "pygments_lexer": "ipython3",
   "version": "3.9.0"
  }
 },
 "nbformat": 4,
 "nbformat_minor": 5
}
