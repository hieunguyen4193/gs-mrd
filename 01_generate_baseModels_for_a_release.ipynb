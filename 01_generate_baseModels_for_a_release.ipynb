{
 "cells": [
  {
   "cell_type": "code",
   "execution_count": 3,
   "metadata": {},
   "outputs": [],
   "source": [
    "import pandas as pd\n",
    "import numpy as np\n",
    "import pathlib\n",
    "import seaborn as sns\n",
    "import matplotlib.pyplot as plt\n",
    "from sklearn import metrics\n",
    "from sklearn.metrics import RocCurveDisplay\n",
    "from sklearn.decomposition import NMF\n",
    "import warnings\n",
    "warnings.filterwarnings(\"ignore\")\n",
    "from sklearn.mixture import GaussianMixture\n",
    "import os\n",
    "import ot\n",
    "import pickle\n",
    "import argparse\n",
    "\n",
    "PROJECT = \"gs-mrd\"\n",
    "release_version = \"06062024\"\n",
    "merge_version = \"20240914\"\n",
    "\n",
    "path_to_main_src = \"/media/hieunguyen/HNSD01/src/gs-mrd\"\n",
    "path_to_merge_samples = f\"{path_to_main_src}/all_samples/{merge_version}\"\n",
    "path_to_model_files = f\"{path_to_main_src}/model_files/{release_version}\"\n",
    "\n",
    "metadata = pd.read_csv(f\"{path_to_model_files}/release_metadata.csv\")\n",
    "\n",
    "featuredf = dict()\n",
    "for input_feature in [\"EM\", \"FLEN\", \"NUCLEOSOME\", \"IchorCNA\"]:\n",
    "    tmpdf = pd.read_csv(f\"{path_to_merge_samples}/{input_feature}_features.csv\")\n",
    "    tmpdf = tmpdf[tmpdf[\"SampleID\"].isin(metadata.SampleID.unique())]\n",
    "    featuredf[input_feature] = tmpdf.copy()\n",
    "    assert featuredf[input_feature].shape[0] == metadata.shape[0]"
   ]
  },
  {
   "cell_type": "code",
   "execution_count": null,
   "metadata": {},
   "outputs": [],
   "source": []
  }
 ],
 "metadata": {
  "kernelspec": {
   "display_name": "mrd",
   "language": "python",
   "name": "python3"
  },
  "language_info": {
   "codemirror_mode": {
    "name": "ipython",
    "version": 3
   },
   "file_extension": ".py",
   "mimetype": "text/x-python",
   "name": "python",
   "nbconvert_exporter": "python",
   "pygments_lexer": "ipython3",
   "version": "3.9.0"
  }
 },
 "nbformat": 4,
 "nbformat_minor": 2
}
