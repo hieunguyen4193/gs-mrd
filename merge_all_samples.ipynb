{
 "cells": [
  {
   "cell_type": "code",
   "execution_count": 1,
   "metadata": {},
   "outputs": [],
   "source": [
    "import pandas as pd\n",
    "import numpy as np\n",
    "import pathlib\n",
    "import seaborn as sns\n",
    "import matplotlib.pyplot as plt\n",
    "from sklearn import metrics\n",
    "from sklearn.metrics import RocCurveDisplay\n",
    "from sklearn.decomposition import NMF\n",
    "import warnings\n",
    "warnings.filterwarnings(\"ignore\")\n",
    "from sklearn.mixture import GaussianMixture\n",
    "import os\n",
    "import ot\n",
    "import pickle"
   ]
  },
  {
   "cell_type": "code",
   "execution_count": 5,
   "metadata": {},
   "outputs": [
    {
     "name": "stdout",
     "output_type": "stream",
     "text": [
      "There are 1710 samples in EM feature\n",
      "There are 1710 samples in FLEN feature\n",
      "There are 1710 samples in NUCLEOSOME feature\n",
      "There are 1710 samples in IchorCNA feature\n"
     ]
    }
   ],
   "source": [
    "PROJECT = \"gs-mrd\"\n",
    "\n",
    "maindir = \"/media/hieunguyen/GSHD_HN01\"\n",
    "path_to_storage = os.path.join(maindir, \"storage\")\n",
    "path_to_main_src = \"/media/hieunguyen/HNSD01/src/gs-mrd\"\n",
    "path_to_save_merge_feature = os.path.join(path_to_main_src, \"all_samples\")\n",
    "os.system(f\"mkdir -p {path_to_save_merge_feature}\")\n",
    "\n",
    "##### modify metadata\n",
    "if os.path.isfile(\"All Samples GW_MRD_010924.modified.xlsx\") == False:\n",
    "    metadata = pd.read_excel(\"All Samples GW_MRD_010924.xlsx\")\n",
    "    convert_labcode = {\n",
    "        \"HMAAAA03\": \"ZTKL01A\",\n",
    "        \"HMAAAA26\": \"ZTKL05A\",\n",
    "        \"HMAAAA21\": \"ZTKL07A\",\n",
    "        \"ZMC031A\": \"ZMC031\",\n",
    "        \"ZMC057A\": \"ZMC057\",\n",
    "        \"ZMC005A\": \"ZMC005\",\n",
    "        \"ZMG093A\": \"ZMG093\",\n",
    "        \"MDCAAA03\": \"MQCAAA03\",\n",
    "        \"MDAAAA18\": \"MQAAAA18\",\n",
    "        \"ZMG040A\": \"ZMC040A\"\n",
    "    }\n",
    "    metadata[\"SampleID\"] = metadata[\"SampleID\"].apply(lambda x: convert_labcode[x] if x in convert_labcode.keys() else x)\n",
    "    metadata = metadata[~metadata[\"SampleID\"].duplicated()]\n",
    "    metadata.to_excel(\"All Samples GW_MRD_010924.modified.xlsx\")\n",
    "else:\n",
    "    metadata = pd.read_excel(\"All Samples GW_MRD_010924.modified.xlsx\")\n",
    "\n",
    "rerun_samples = pd.read_csv(\"rerun_samples_not_used.txt\", header = None)[0].unique()\n",
    "\n",
    "featuredf = dict()\n",
    "rerun_featuredf = dict()\n",
    "all_files = dict()\n",
    "for input_feature in [\"EM\", \"FLEN\", \"NUCLEOSOME\", \"IchorCNA\"]:\n",
    "    all_files[input_feature] = [item for item in pathlib.Path(os.path.join(path_to_storage, PROJECT)).glob(\"*/*/*{}*.csv\".format(input_feature))]\n",
    "    featuredf[input_feature] = pd.DataFrame()\n",
    "    for file in all_files[input_feature]:\n",
    "        tmpdf = pd.read_csv(file, index_col = [0])\n",
    "        # tmpdf = pd.read_csv(file)\n",
    "        tmpdf.columns = [\"SampleID\"] + list(tmpdf.columns)[1:]\n",
    "        tmpdf[\"SampleID\"] = tmpdf[\"SampleID\"].apply(lambda x: x.split(\"_\")[0])\n",
    "        featuredf[input_feature] = pd.concat([featuredf[input_feature], tmpdf], axis = 0)\n",
    "    rerun_featuredf[input_feature] = featuredf[input_feature][featuredf[input_feature][\"SampleID\"].isin(rerun_samples)]\n",
    "    featuredf[input_feature] = featuredf[input_feature][~featuredf[input_feature][\"SampleID\"].isin(rerun_samples)]\n",
    "    \n",
    "    rerun_featuredf[input_feature][\"SampleID\"] = rerun_featuredf[input_feature][\"SampleID\"].apply(lambda x: x.split(\"-\")[1])\n",
    "    featuredf[input_feature][\"SampleID\"] = featuredf[input_feature][\"SampleID\"].apply(lambda x: x.split(\"-\")[1])\n",
    "\n",
    "    print(f\"There are {featuredf[input_feature].shape[0]} samples in {input_feature} feature\")\n"
   ]
  },
  {
   "cell_type": "code",
   "execution_count": 6,
   "metadata": {},
   "outputs": [
    {
     "data": {
      "text/plain": [
       "(1550, 22)"
      ]
     },
     "execution_count": 6,
     "metadata": {},
     "output_type": "execute_result"
    }
   ],
   "source": [
    "[]"
   ]
  }
 ],
 "metadata": {
  "kernelspec": {
   "display_name": "mrd",
   "language": "python",
   "name": "python3"
  },
  "language_info": {
   "codemirror_mode": {
    "name": "ipython",
    "version": 3
   },
   "file_extension": ".py",
   "mimetype": "text/x-python",
   "name": "python",
   "nbconvert_exporter": "python",
   "pygments_lexer": "ipython3",
   "version": "3.9.0"
  }
 },
 "nbformat": 4,
 "nbformat_minor": 2
}
