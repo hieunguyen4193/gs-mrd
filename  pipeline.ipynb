{
 "cells": [
  {
   "cell_type": "code",
   "execution_count": null,
   "metadata": {},
   "outputs": [],
   "source": [
    "import pandas as pd\n",
    "import numpy as np\n",
    "import pathlib\n",
    "import seaborn as sns\n",
    "import matplotlib.pyplot as plt\n",
    "from sklearn import metrics\n",
    "from sklearn.metrics import RocCurveDisplay\n",
    "from sklearn.decomposition import NMF\n",
    "import warnings\n",
    "warnings.filterwarnings(\"ignore\")\n",
    "from sklearn.mixture import GaussianMixture\n",
    "import os\n",
    "import ot\n",
    "import pickle\n",
    "\n",
    "##### preparation\n",
    "PROJECT = \"gs-mrd\"\n",
    "\n",
    "data_version = \"06062024\"\n",
    "# data_version = args.data_versions\n",
    "output_version = data_version\n",
    "\n",
    "maindir = \"/media/hieunguyen/GSHD_HN01\"\n",
    "path_to_storage = os.path.join(maindir, \"storage\")\n",
    "path_to_main_src = \"/media/hieunguyen/HNSD01/src/gs-mrd\"\n",
    "path_to_main_input = os.path.join(path_to_storage, PROJECT, data_version)\n",
    "path_to_model_files = f\"{path_to_main_src}/model_files/{output_version}\"\n",
    "\n",
    "##### modify metadata\n",
    "if os.path.isfile(\"All Samples GW_MRD_010924.modified.xlsx\") == False:\n",
    "    metadata = pd.read_excel(\"All Samples GW_MRD_010924.xlsx\")\n",
    "    convert_labcode = {\n",
    "        \"HMAAAA03\": \"ZTKL01A\",\n",
    "        \"HMAAAA26\": \"ZTKL05A\",\n",
    "        \"HMAAAA21\": \"ZTKL07A\",\n",
    "        \"ZMC031A\": \"ZMC031\",\n",
    "        \"ZMC057A\": \"ZMC057\",\n",
    "        \"ZMC005A\": \"ZMC005\",\n",
    "        \"ZMG093A\": \"ZMG093\",\n",
    "        \"MDCAAA03\": \"MQCAAA03\",\n",
    "        \"MDAAAA18\": \"MQAAAA18\",\n",
    "        \"ZMG040A\": \"ZMC040A\"\n",
    "    }\n",
    "    metadata[\"SampleID\"] = metadata[\"SampleID\"].apply(lambda x: convert_labcode[x] if x in convert_labcode.keys() else x)\n",
    "    metadata = metadata[~metadata[\"SampleID\"].duplicated()]\n",
    "    metadata.to_excel(\"All Samples GW_MRD_010924.modified.xlsx\")\n",
    "else:\n",
    "    metadata = pd.read_excel(\"All Samples GW_MRD_010924.modified.xlsx\")"
   ]
  }
 ],
 "metadata": {
  "kernelspec": {
   "display_name": "mrd",
   "language": "python",
   "name": "python3"
  },
  "language_info": {
   "name": "python",
   "version": "3.9.0"
  }
 },
 "nbformat": 4,
 "nbformat_minor": 2
}
