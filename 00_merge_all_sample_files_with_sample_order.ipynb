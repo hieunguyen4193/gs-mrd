{
 "cells": [
  {
   "cell_type": "code",
   "execution_count": 84,
   "metadata": {},
   "outputs": [
    {
     "name": "stdout",
     "output_type": "stream",
     "text": [
      "(388, 602)\n",
      "(388, 2)\n",
      "(388, 302)\n",
      "(388, 257)\n"
     ]
    }
   ],
   "source": [
    "import pandas as pd \n",
    "import pathlib\n",
    "import os\n",
    "\n",
    "path_to_20240924_data = \"/media/hieunguyen/HNSD01/src/gs-mrd/model_files/10062024/features\"\n",
    "path_to_save_data = \"/media/hieunguyen/HNSD01/src/gs-mrd/all_samples/20241209\"\n",
    "os.system(f\"mkdir -p {path_to_save_data}\")\n",
    "\n",
    "all_files = [item for item in pathlib.Path(path_to_20240924_data).glob(\"*features.csv\")]\n",
    "checkdf = pd.read_csv(\"/media/hieunguyen/HNSD01/src/MRD_GW/release_20240602/check.csv\")\n",
    "predefined_order = checkdf[\"SampleID\"].to_list()\n",
    "for file in all_files:\n",
    "    tmpdf = pd.read_csv(file)\n",
    "    print(tmpdf.shape)\n",
    "    tmpdf[\"check\"] = tmpdf[\"SampleID\"].apply(lambda x: x.split(\"-\")[1])\n",
    "    tmpdf.set_index(\"check\", inplace=True)\n",
    "    tmpdf = tmpdf.loc[predefined_order]\n",
    "    tmpdf.set_index(\"SampleID\", inplace=True)\n",
    "    tmpdf = tmpdf.reset_index()\n",
    "    tmpdf.to_csv(f\"{path_to_save_data}/{file.name}\", index=False)\n",
    "\n",
    "\n"
   ]
  }
 ],
 "metadata": {
  "kernelspec": {
   "display_name": "mrd",
   "language": "python",
   "name": "python3"
  },
  "language_info": {
   "codemirror_mode": {
    "name": "ipython",
    "version": 3
   },
   "file_extension": ".py",
   "mimetype": "text/x-python",
   "name": "python",
   "nbconvert_exporter": "python",
   "pygments_lexer": "ipython3",
   "version": "3.9.0"
  }
 },
 "nbformat": 4,
 "nbformat_minor": 2
}
