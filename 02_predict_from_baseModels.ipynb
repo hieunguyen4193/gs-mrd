{
 "cells": [
  {
   "cell_type": "code",
   "execution_count": 53,
   "metadata": {},
   "outputs": [],
   "source": [
    "import pandas as pd\n",
    "import numpy as np\n",
    "import pathlib\n",
    "import seaborn as sns\n",
    "import matplotlib.pyplot as plt\n",
    "from sklearn import metrics\n",
    "from sklearn.metrics import RocCurveDisplay\n",
    "from sklearn.decomposition import NMF\n",
    "import warnings\n",
    "warnings.filterwarnings(\"ignore\")\n",
    "from sklearn.mixture import GaussianMixture\n",
    "import os\n",
    "import ot\n",
    "import pickle\n",
    "import argparse\n",
    "import Levenshtein\n",
    "import itertools\n",
    "from helper_functions import *\n",
    "\n",
    "##### input args\n",
    "PROJECT = \"gs-mrd\"\n",
    "release_version = \"06062024\"\n",
    "merge_version = \"20240914\"\n",
    "\n",
    "##### configurations/paths\n",
    "path_to_main_src = \"/media/hieunguyen/HNSD01/src/gs-mrd\"\n",
    "path_to_merge_samples = f\"{path_to_main_src}/all_samples/{merge_version}\"\n",
    "path_to_model_files = f\"{path_to_main_src}/model_files/{release_version}\"\n",
    "\n",
    "##### metadata\n",
    "motif_order = pd.read_csv(\"motif_order.csv\").motif_order.to_list()\n",
    "metadata = pd.read_csv(os.path.join(path_to_merge_samples, \"EM_batch_metadata.csv\"))\n",
    "metadata[\"SampleID2\"] = metadata[\"SampleID\"].apply(lambda x: x.split(\"-\")[1])\n",
    "data_metadata = metadata.copy()\n",
    "\n",
    "general_metadata = pd.read_excel(\"All Samples GW_MRD_010924.modified.xlsx\", index_col = [0])\n",
    "metadata = metadata[metadata[\"SampleID2\"].isin(general_metadata[\"SampleID\"].to_list())]\n",
    "\n",
    "metadata[\"Cancer\"] = metadata[\"SampleID\"].apply(lambda x: general_metadata[general_metadata[\"SampleID\"] == x.split(\"-\")[1]].Cancer.unique()[0])\n",
    "metadata[\"True label\"] = metadata[\"SampleID\"].apply(lambda x: general_metadata[general_metadata[\"SampleID\"] == x.split(\"-\")[1]][\"True label\"].unique()[0])\n",
    "\n",
    "featuredf = dict()\n",
    "for input_feature in [\"EM\", \"FLEN\", \"NUCLEOSOME\", \"IchorCNA\"]:\n",
    "    tmpdf = pd.read_csv(f\"{path_to_merge_samples}/{input_feature}_features.csv\")\n",
    "    if input_feature == \"EM\":\n",
    "        featuredf[input_feature] = tmpdf[[\"SampleID\"] + motif_order].copy()\n",
    "    else:\n",
    "        featuredf[input_feature] = tmpdf.copy()\n"
   ]
  }
 ],
 "metadata": {
  "kernelspec": {
   "display_name": "mrd",
   "language": "python",
   "name": "python3"
  },
  "language_info": {
   "codemirror_mode": {
    "name": "ipython",
    "version": 3
   },
   "file_extension": ".py",
   "mimetype": "text/x-python",
   "name": "python",
   "nbconvert_exporter": "python",
   "pygments_lexer": "ipython3",
   "version": "3.9.0"
  }
 },
 "nbformat": 4,
 "nbformat_minor": 2
}
