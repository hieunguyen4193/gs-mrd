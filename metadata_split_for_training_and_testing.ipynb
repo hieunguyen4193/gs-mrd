{
 "cells": [
  {
   "cell_type": "code",
   "execution_count": 1,
   "metadata": {},
   "outputs": [
    {
     "data": {
      "text/plain": [
       "0"
      ]
     },
     "execution_count": 1,
     "metadata": {},
     "output_type": "execute_result"
    }
   ],
   "source": [
    "import pandas as pd\n",
    "import pathlib\n",
    "import os\n",
    "from tqdm import tqdm\n",
    "\n",
    "PROJECT = \"gs-mrd\"\n",
    "\n",
    "maindir = \"/media/hieunguyen/GSHD_HN01\"\n",
    "path_to_storage = os.path.join(maindir, \"storage\")\n",
    "path_to_main_src = \"/media/hieunguyen/HNSD01/src/gs-mrd\"\n",
    "path_to_save_merge_feature = os.path.join(path_to_main_src, \"all_samples\")\n",
    "path_to_model_files = os.path.join(path_to_main_src, \"model_files\")\n",
    "\n",
    "os.system(f\"mkdir -p {path_to_save_merge_feature}\")\n"
   ]
  },
  {
   "cell_type": "markdown",
   "metadata": {},
   "source": [
    "# Read the metadata, convert labcode\n"
   ]
  },
  {
   "cell_type": "code",
   "execution_count": 2,
   "metadata": {},
   "outputs": [
    {
     "name": "stdout",
     "output_type": "stream",
     "text": [
      "Number of samples in metadata: 1550\n"
     ]
    }
   ],
   "source": [
    "##### modify metadata\n",
    "if os.path.isfile(\"All Samples GW_MRD_010924.modified.xlsx\") == False:\n",
    "    metadata = pd.read_excel(\"All Samples GW_MRD_010924.xlsx\")\n",
    "    '''\n",
    "    These labcodes have been changed and need to be converted in the metadata.\n",
    "    '''\n",
    "    convert_labcode = {\n",
    "        \"HMAAAA03\": \"ZTKL01A\",\n",
    "        \"HMAAAA26\": \"ZTKL05A\",\n",
    "        \"HMAAAA21\": \"ZTKL07A\",\n",
    "        \"ZMC031A\": \"ZMC031\",\n",
    "        \"ZMC057A\": \"ZMC057\",\n",
    "        \"ZMC005A\": \"ZMC005\",\n",
    "        \"ZMG093A\": \"ZMG093\",\n",
    "        \"MDCAAA03\": \"MQCAAA03\",\n",
    "        \"MDAAAA18\": \"MQAAAA18\",\n",
    "        \"ZMG040A\": \"ZMC040A\"\n",
    "    }\n",
    "    metadata[\"SampleID\"] = metadata[\"SampleID\"].apply(lambda x: convert_labcode[x] if x in convert_labcode.keys() else x)\n",
    "    metadata = metadata[~metadata[\"SampleID\"].duplicated()]\n",
    "    metadata.to_excel(\"All Samples GW_MRD_010924.modified.xlsx\")\n",
    "else:\n",
    "    metadata = pd.read_excel(\"All Samples GW_MRD_010924.modified.xlsx\")\n",
    "    \n",
    "metadata = metadata[~metadata[\"SampleID\"].duplicated()]\n",
    "\n",
    "print(f\"Number of samples in metadata: {metadata.shape[0]}\")"
   ]
  },
  {
   "cell_type": "markdown",
   "metadata": {},
   "source": [
    "# Prepare metadata for the Release version 20240606"
   ]
  },
  {
   "cell_type": "code",
   "execution_count": 3,
   "metadata": {},
   "outputs": [
    {
     "data": {
      "text/plain": [
       "(388, 3)"
      ]
     },
     "execution_count": 3,
     "metadata": {},
     "output_type": "execute_result"
    }
   ],
   "source": [
    "merge_data_version = \"20240914\"\n",
    "release_version = \"06062024\"\n",
    "\n",
    "path_to_batch_metadata = os.path.join(path_to_save_merge_feature, merge_data_version)\n",
    "path_to_release_data = os.path.join(path_to_model_files, release_version)\n",
    "\n",
    "os.system(f\"mkdir -p {path_to_release_data}\")\n",
    "\n",
    "all_metadata_files = [item for item in pathlib.Path(path_to_batch_metadata).rglob(\"*_batch_metadata.csv\")]\n",
    "\n",
    "# Note: use feature EM as reference metadata\n",
    "metadata = pd.read_csv([item for item in all_metadata_files if \"EM\" in item.name][0])\n",
    "metadata1 = metadata[metadata[\"Group_RUN\"] == release_version]\n",
    "\n",
    "# remove rerun sampels in this batch\n",
    "rerun_samples = pd.read_csv(\"rerun_samples_not_used.txt\", header = None)[0].unique()\n",
    "metadata1 = metadata1[metadata1[\"SampleID\"].isin(rerun_samples) == False]\n",
    "# metadata1[\"SampleID\"] = metadata1[\"SampleID\"].apply(lambda x: x.split(\"-\")[1])\n",
    "\n",
    "metadata1.to_csv(os.path.join(path_to_release_data, \"release_metadata.csv\"), index = False)\n",
    "metadata1.shape"
   ]
  },
  {
   "cell_type": "code",
   "execution_count": 7,
   "metadata": {},
   "outputs": [
    {
     "data": {
      "text/html": [
       "<div>\n",
       "<style scoped>\n",
       "    .dataframe tbody tr th:only-of-type {\n",
       "        vertical-align: middle;\n",
       "    }\n",
       "\n",
       "    .dataframe tbody tr th {\n",
       "        vertical-align: top;\n",
       "    }\n",
       "\n",
       "    .dataframe thead th {\n",
       "        text-align: right;\n",
       "    }\n",
       "</style>\n",
       "<table border=\"1\" class=\"dataframe\">\n",
       "  <thead>\n",
       "    <tr style=\"text-align: right;\">\n",
       "      <th></th>\n",
       "      <th>SampleID</th>\n",
       "      <th>RUN</th>\n",
       "      <th>Group_RUN</th>\n",
       "    </tr>\n",
       "  </thead>\n",
       "  <tbody>\n",
       "    <tr>\n",
       "      <th>0</th>\n",
       "      <td>7-ZMC057</td>\n",
       "      <td>Research-mrdgw-all-batch2</td>\n",
       "      <td>06062024</td>\n",
       "    </tr>\n",
       "    <tr>\n",
       "      <th>1</th>\n",
       "      <td>8-ZMG093</td>\n",
       "      <td>Research-mrdgw-all-batch2</td>\n",
       "      <td>06062024</td>\n",
       "    </tr>\n",
       "    <tr>\n",
       "      <th>2</th>\n",
       "      <td>6-ZMC071A</td>\n",
       "      <td>Research-mrdgw-all-batch2</td>\n",
       "      <td>06062024</td>\n",
       "    </tr>\n",
       "    <tr>\n",
       "      <th>3</th>\n",
       "      <td>6-MDGAAA16</td>\n",
       "      <td>Research-mrdgw-all-batch2</td>\n",
       "      <td>06062024</td>\n",
       "    </tr>\n",
       "    <tr>\n",
       "      <th>4</th>\n",
       "      <td>8-ZMC046B</td>\n",
       "      <td>Research-mrdgw-all-batch2</td>\n",
       "      <td>06062024</td>\n",
       "    </tr>\n",
       "    <tr>\n",
       "      <th>...</th>\n",
       "      <td>...</td>\n",
       "      <td>...</td>\n",
       "      <td>...</td>\n",
       "    </tr>\n",
       "    <tr>\n",
       "      <th>1720</th>\n",
       "      <td>54-ZK0AAAH44NB</td>\n",
       "      <td>batch_180824</td>\n",
       "      <td>from_ECD_WGS</td>\n",
       "    </tr>\n",
       "    <tr>\n",
       "      <th>1721</th>\n",
       "      <td>1-ZK0AAAI47NB</td>\n",
       "      <td>batch_180824</td>\n",
       "      <td>from_ECD_WGS</td>\n",
       "    </tr>\n",
       "    <tr>\n",
       "      <th>1722</th>\n",
       "      <td>83-ZK0AAAH57NB</td>\n",
       "      <td>batch_180824</td>\n",
       "      <td>from_ECD_WGS</td>\n",
       "    </tr>\n",
       "    <tr>\n",
       "      <th>1723</th>\n",
       "      <td>84-ZK0AAAH58NB</td>\n",
       "      <td>batch_180824</td>\n",
       "      <td>from_ECD_WGS</td>\n",
       "    </tr>\n",
       "    <tr>\n",
       "      <th>1724</th>\n",
       "      <td>34-ZK0AAAI94NB</td>\n",
       "      <td>batch_180824</td>\n",
       "      <td>from_ECD_WGS</td>\n",
       "    </tr>\n",
       "  </tbody>\n",
       "</table>\n",
       "<p>1725 rows × 3 columns</p>\n",
       "</div>"
      ],
      "text/plain": [
       "            SampleID                        RUN     Group_RUN\n",
       "0           7-ZMC057  Research-mrdgw-all-batch2      06062024\n",
       "1           8-ZMG093  Research-mrdgw-all-batch2      06062024\n",
       "2          6-ZMC071A  Research-mrdgw-all-batch2      06062024\n",
       "3         6-MDGAAA16  Research-mrdgw-all-batch2      06062024\n",
       "4          8-ZMC046B  Research-mrdgw-all-batch2      06062024\n",
       "...              ...                        ...           ...\n",
       "1720  54-ZK0AAAH44NB               batch_180824  from_ECD_WGS\n",
       "1721   1-ZK0AAAI47NB               batch_180824  from_ECD_WGS\n",
       "1722  83-ZK0AAAH57NB               batch_180824  from_ECD_WGS\n",
       "1723  84-ZK0AAAH58NB               batch_180824  from_ECD_WGS\n",
       "1724  34-ZK0AAAI94NB               batch_180824  from_ECD_WGS\n",
       "\n",
       "[1725 rows x 3 columns]"
      ]
     },
     "execution_count": 7,
     "metadata": {},
     "output_type": "execute_result"
    }
   ],
   "source": [
    "metadata"
   ]
  }
 ],
 "metadata": {
  "kernelspec": {
   "display_name": "mrd",
   "language": "python",
   "name": "python3"
  },
  "language_info": {
   "codemirror_mode": {
    "name": "ipython",
    "version": 3
   },
   "file_extension": ".py",
   "mimetype": "text/x-python",
   "name": "python",
   "nbconvert_exporter": "python",
   "pygments_lexer": "ipython3",
   "version": "3.9.0"
  }
 },
 "nbformat": 4,
 "nbformat_minor": 2
}
