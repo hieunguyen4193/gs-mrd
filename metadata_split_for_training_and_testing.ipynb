{
 "cells": [
  {
   "cell_type": "code",
   "execution_count": 1,
   "metadata": {},
   "outputs": [
    {
     "data": {
      "text/plain": [
       "0"
      ]
     },
     "execution_count": 1,
     "metadata": {},
     "output_type": "execute_result"
    }
   ],
   "source": [
    "import pandas as pd\n",
    "import pathlib\n",
    "import os\n",
    "from tqdm import tqdm\n",
    "\n",
    "PROJECT = \"gs-mrd\"\n",
    "\n",
    "maindir = \"/media/hieunguyen/GSHD_HN01\"\n",
    "path_to_storage = os.path.join(maindir, \"storage\")\n",
    "path_to_main_src = \"/media/hieunguyen/HNSD01/src/gs-mrd\"\n",
    "path_to_save_merge_feature = os.path.join(path_to_main_src, \"all_samples\")\n",
    "path_to_model_files = os.path.join(path_to_main_src, \"model_files\")\n",
    "\n",
    "os.system(f\"mkdir -p {path_to_save_merge_feature}\")\n"
   ]
  },
  {
   "cell_type": "markdown",
   "metadata": {},
   "source": [
    "# Read the metadata, convert labcode\n"
   ]
  },
  {
   "cell_type": "code",
   "execution_count": 2,
   "metadata": {},
   "outputs": [
    {
     "name": "stdout",
     "output_type": "stream",
     "text": [
      "Number of samples in metadata: 1550\n"
     ]
    }
   ],
   "source": [
    "##### modify metadata\n",
    "if os.path.isfile(\"All Samples GW_MRD_010924.modified.xlsx\") == False:\n",
    "    metadata = pd.read_excel(\"All Samples GW_MRD_010924.xlsx\")\n",
    "    '''\n",
    "    These labcodes have been changed and need to be converted in the metadata.\n",
    "    '''\n",
    "    convert_labcode = {\n",
    "        \"HMAAAA03\": \"ZTKL01A\",\n",
    "        \"HMAAAA26\": \"ZTKL05A\",\n",
    "        \"HMAAAA21\": \"ZTKL07A\",\n",
    "        \"ZMC031A\": \"ZMC031\",\n",
    "        \"ZMC057A\": \"ZMC057\",\n",
    "        \"ZMC005A\": \"ZMC005\",\n",
    "        \"ZMG093A\": \"ZMG093\",\n",
    "        \"MDCAAA03\": \"MQCAAA03\",\n",
    "        \"MDAAAA18\": \"MQAAAA18\",\n",
    "        \"ZMG040A\": \"ZMC040A\"\n",
    "    }\n",
    "    metadata[\"SampleID\"] = metadata[\"SampleID\"].apply(lambda x: convert_labcode[x] if x in convert_labcode.keys() else x)\n",
    "    metadata = metadata[~metadata[\"SampleID\"].duplicated()]\n",
    "    metadata.to_excel(\"All Samples GW_MRD_010924.modified.xlsx\")\n",
    "else:\n",
    "    metadata = pd.read_excel(\"All Samples GW_MRD_010924.modified.xlsx\")\n",
    "    \n",
    "metadata = metadata[~metadata[\"SampleID\"].duplicated()]\n",
    "\n",
    "print(f\"Number of samples in metadata: {metadata.shape[0]}\")"
   ]
  },
  {
   "cell_type": "markdown",
   "metadata": {},
   "source": [
    "# Prepare metadata for the Release version 20240606"
   ]
  },
  {
   "cell_type": "code",
   "execution_count": 3,
   "metadata": {},
   "outputs": [
    {
     "data": {
      "text/plain": [
       "(388, 3)"
      ]
     },
     "execution_count": 3,
     "metadata": {},
     "output_type": "execute_result"
    }
   ],
   "source": [
    "merge_data_version = \"20240914\"\n",
    "release_version = \"06062024\"\n",
    "\n",
    "path_to_batch_metadata = os.path.join(path_to_save_merge_feature, merge_data_version)\n",
    "path_to_release_data = os.path.join(path_to_model_files, release_version)\n",
    "\n",
    "os.system(f\"mkdir -p {path_to_release_data}\")\n",
    "\n",
    "all_metadata_files = [item for item in pathlib.Path(path_to_batch_metadata).rglob(\"*_batch_metadata.csv\")]\n",
    "\n",
    "# Note: use feature EM as reference metadata\n",
    "metadata = pd.read_csv([item for item in all_metadata_files if \"EM\" in item.name][0])\n",
    "metadata1 = metadata[metadata[\"Group_RUN\"] == release_version]\n",
    "\n",
    "# remove rerun sampels in this batch\n",
    "rerun_samples = pd.read_csv(\"rerun_samples_not_used.txt\", header = None)[0].unique()\n",
    "metadata1 = metadata1[metadata1[\"SampleID\"].isin(rerun_samples) == False]\n",
    "# metadata1[\"SampleID\"] = metadata1[\"SampleID\"].apply(lambda x: x.split(\"-\")[1])\n",
    "\n",
    "metadata1.to_csv(os.path.join(path_to_release_data, \"release_metadata.csv\"), index = False)\n",
    "metadata1.shape"
   ]
  }
 ],
 "metadata": {
  "kernelspec": {
   "display_name": "mrd",
   "language": "python",
   "name": "python3"
  },
  "language_info": {
   "codemirror_mode": {
    "name": "ipython",
    "version": 3
   },
   "file_extension": ".py",
   "mimetype": "text/x-python",
   "name": "python",
   "nbconvert_exporter": "python",
   "pygments_lexer": "ipython3",
   "version": "3.9.0"
  }
 },
 "nbformat": 4,
 "nbformat_minor": 2
}
